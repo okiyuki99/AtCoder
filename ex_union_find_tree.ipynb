{
 "cells": [
  {
   "cell_type": "markdown",
   "metadata": {},
   "source": [
    "## Union Find Tree のお勉強\n",
    "* https://takeg.hatenadiary.jp/entry/2019/05/24/005632"
   ]
  },
  {
   "cell_type": "code",
   "execution_count": 1,
   "metadata": {},
   "outputs": [],
   "source": [
    "class UnionFindSize():\n",
    "    def __init__(self, N):\n",
    "        \"\"\" N個のノードのUnion-Find木を作成する \"\"\"\n",
    "        # 親の番号を格納する。自分が親だった場合は、自分の番号になり、それがそのグループの番号になる\n",
    "        self._parent = [n for n in range(0, N)]\n",
    "        # グループのサイズ（個数）\n",
    "        self._size = [1] * N\n",
    "\n",
    "    def find_root(self, x):\n",
    "        \"\"\" xの木の根(xがどのグループか)を求める \"\"\"\n",
    "        if self._parent[x] == x: return x\n",
    "        self._parent[x] = self.find_root(self._parent[x]) # 縮約\n",
    "        return self._parent[x]\n",
    "\n",
    "    def unite(self, x, y):\n",
    "        \"\"\" xとyの属するグループを併合する \"\"\"\n",
    "        gx = self.find_root(x)\n",
    "        gy = self.find_root(y)\n",
    "        if gx == gy: return\n",
    "\n",
    "        # 小さい方を大きい方に併合させる（木の偏りが減るので）\n",
    "        if self._size[gx] < self._size[gy]:\n",
    "            self._parent[gx] = gy\n",
    "            self._size[gy] += self._size[gx]\n",
    "        else:\n",
    "            self._parent[gy] = gx\n",
    "            self._size[gx] += self._size[gy]\n",
    "\n",
    "    def get_size(self, x):\n",
    "        \"\"\" xが属するグループのサイズ（個数）を返す \"\"\"\n",
    "        return self._size[self.find_root(x)]\n",
    "\n",
    "    def is_same_group(self, x, y):\n",
    "        \"\"\" xとyが同じ集合に属するか否か \"\"\"\n",
    "        return self.find_root(x) == self.find_root(y)\n",
    "\n",
    "    def calc_group_num(self):\n",
    "        \"\"\" グループ数を計算して返す \"\"\"\n",
    "        N = len(self._parent)\n",
    "        ans = 0\n",
    "        for i in range(N):\n",
    "            if self.find_root(i) == i:\n",
    "                ans += 1\n",
    "        return ans"
   ]
  },
  {
   "cell_type": "markdown",
   "metadata": {},
   "source": [
    "### データ入力"
   ]
  },
  {
   "cell_type": "code",
   "execution_count": 4,
   "metadata": {},
   "outputs": [],
   "source": [
    "N = 10\n",
    "uf = UnionFindSize(N)\n",
    "\n",
    "uf.unite(0, 1)\n",
    "uf.unite(1, 2)\n",
    "uf.unite(2, 3)\n",
    "uf.unite(4, 5)\n",
    "uf.unite(4, 6)"
   ]
  },
  {
   "cell_type": "code",
   "execution_count": 7,
   "metadata": {},
   "outputs": [
    {
     "name": "stdout",
     "output_type": "stream",
     "text": [
      "0\n",
      "4\n",
      "False\n",
      "5\n"
     ]
    }
   ],
   "source": [
    "# {0, 1, 2, 3}, {4, 5, 6}, {7}, {8}, {9} の5グループ\n",
    "\n",
    "a = uf.find_root(2)\n",
    "print(a) # 0\n",
    "\n",
    "a = uf.get_size(2)\n",
    "print(a) # 4\n",
    "\n",
    "a = uf.is_same_group(3, 4)\n",
    "print(a) # False\n",
    "\n",
    "a = uf.calc_group_num()\n",
    "print(a) # 5"
   ]
  },
  {
   "cell_type": "code",
   "execution_count": null,
   "metadata": {},
   "outputs": [],
   "source": []
  }
 ],
 "metadata": {
  "kernelspec": {
   "display_name": "Python 3",
   "language": "python",
   "name": "python3"
  },
  "language_info": {
   "codemirror_mode": {
    "name": "ipython",
    "version": 3
   },
   "file_extension": ".py",
   "mimetype": "text/x-python",
   "name": "python",
   "nbconvert_exporter": "python",
   "pygments_lexer": "ipython3",
   "version": "3.6.3"
  },
  "toc": {
   "base_numbering": 1,
   "nav_menu": {},
   "number_sections": true,
   "sideBar": true,
   "skip_h1_title": false,
   "title_cell": "Table of Contents",
   "title_sidebar": "Contents",
   "toc_cell": false,
   "toc_position": {},
   "toc_section_display": true,
   "toc_window_display": false
  }
 },
 "nbformat": 4,
 "nbformat_minor": 2
}
