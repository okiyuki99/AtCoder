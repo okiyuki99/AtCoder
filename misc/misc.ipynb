{
 "cells": [
  {
   "cell_type": "markdown",
   "metadata": {},
   "source": [
    "### abc 128 d\n",
    "- https://qiita.com/ct158603292321/items/11122ba8a5be3c97912b"
   ]
  },
  {
   "cell_type": "code",
   "execution_count": 2,
   "metadata": {},
   "outputs": [
    {
     "name": "stdout",
     "output_type": "stream",
     "text": [
      "6 4\n",
      "-10 8 2 1 2 6\n",
      "14\n"
     ]
    }
   ],
   "source": [
    "import heapq\n",
    "N,K = map(int, input().split())\n",
    "*V, = map(int, input().split())\n",
    "#N, K = 6, 4\n",
    "#V = [-10, 8, 2, 1, 2, 6]\n",
    "motimono = []\n",
    "ans = []\n",
    "\n",
    "if K >= N: # 操作回数のほうが大きいなら、全部取り出してから何個戻すかを考える\n",
    "    K -= N\n",
    "    heapq.heapify(V)\n",
    "    ans.append(sum(V))\n",
    "    for i in range(K):\n",
    "        if len(V)>0:\n",
    "            heapq.heappop(V)\n",
    "        ans.append(sum(V))\n",
    "    print(max(ans))\n",
    "\n",
    "else:\n",
    "    V *= 2 # 前後からの取り出しを楽にするためにこうしておく\n",
    "    #print(V)\n",
    "    for j in range(1,K+1): # 取り出す個数\n",
    "        for i in range(N-j, N+1): # 何番目から取り出すか\n",
    "            motimono = V[i:i+j]\n",
    "            #print(str(j), str(i), motimono)\n",
    "            ans.append(sum(motimono))\n",
    "            #print(ans)\n",
    "            heapq.heapify(motimono)\n",
    "            for i in range(K-j): # 戻す個数\n",
    "                if len(motimono)>0:\n",
    "                    heapq.heappop(motimono)\n",
    "                ans.append(sum(motimono))\n",
    "    print(max(ans))"
   ]
  },
  {
   "cell_type": "code",
   "execution_count": null,
   "metadata": {},
   "outputs": [],
   "source": []
  }
 ],
 "metadata": {
  "kernelspec": {
   "display_name": "Python 3",
   "language": "python",
   "name": "python3"
  },
  "language_info": {
   "codemirror_mode": {
    "name": "ipython",
    "version": 3
   },
   "file_extension": ".py",
   "mimetype": "text/x-python",
   "name": "python",
   "nbconvert_exporter": "python",
   "pygments_lexer": "ipython3",
   "version": "3.7.2"
  },
  "toc": {
   "base_numbering": 1,
   "nav_menu": {},
   "number_sections": true,
   "sideBar": true,
   "skip_h1_title": false,
   "title_cell": "Table of Contents",
   "title_sidebar": "Contents",
   "toc_cell": false,
   "toc_position": {},
   "toc_section_display": true,
   "toc_window_display": false
  }
 },
 "nbformat": 4,
 "nbformat_minor": 2
}
