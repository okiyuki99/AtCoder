{
 "cells": [
  {
   "cell_type": "markdown",
   "metadata": {},
   "source": [
    "# bit 全探索\n",
    "- 参考 : https://qiita.com/gogotealove/items/11f9e83218926211083a"
   ]
  },
  {
   "cell_type": "markdown",
   "metadata": {},
   "source": [
    "## 基本"
   ]
  },
  {
   "cell_type": "code",
   "execution_count": 5,
   "metadata": {},
   "outputs": [
    {
     "name": "stdout",
     "output_type": "stream",
     "text": [
      "0b101\n"
     ]
    }
   ],
   "source": [
    "i = 5\n",
    "print(bin(i))"
   ]
  },
  {
   "cell_type": "markdown",
   "metadata": {},
   "source": [
    "## シフト演算を理解する"
   ]
  },
  {
   "cell_type": "code",
   "execution_count": 17,
   "metadata": {},
   "outputs": [
    {
     "name": "stdout",
     "output_type": "stream",
     "text": [
      "20\n",
      "10\n",
      "5\n",
      "2\n",
      "1\n"
     ]
    }
   ],
   "source": [
    "print(i << 2)\n",
    "print(i << 1)\n",
    "print(i >> 0)\n",
    "print(i >> 1)\n",
    "print(i >> 2)"
   ]
  },
  {
   "cell_type": "code",
   "execution_count": 18,
   "metadata": {},
   "outputs": [
    {
     "name": "stdout",
     "output_type": "stream",
     "text": [
      "0b10100\n",
      "0b1010\n",
      "0b101\n",
      "0b10\n",
      "0b1\n"
     ]
    }
   ],
   "source": [
    "print(bin(i << 2))\n",
    "print(bin(i << 1))\n",
    "print(bin(i >> 0))\n",
    "print(bin(i >> 1))\n",
    "print(bin(i >> 2))"
   ]
  },
  {
   "cell_type": "markdown",
   "metadata": {},
   "source": [
    "## お買い物例題"
   ]
  },
  {
   "cell_type": "code",
   "execution_count": 20,
   "metadata": {},
   "outputs": [
    {
     "name": "stdout",
     "output_type": "stream",
     "text": [
      "pattern 0: []\n",
      "pattern 1: ['みかん']\n",
      "pattern 2: ['りんご']\n",
      "pattern 3: ['みかん', 'りんご']\n",
      "pattern 4: ['ぶどう']\n",
      "pattern 5: ['みかん', 'ぶどう']\n",
      "pattern 6: ['りんご', 'ぶどう']\n",
      "pattern 7: ['みかん', 'りんご', 'ぶどう']\n"
     ]
    }
   ],
   "source": [
    "money = 300\n",
    "item = ((\"みかん\", 100), (\"りんご\", 200), (\"ぶどう\", 300))\n",
    "n = len(item)\n",
    "for i in range(2 ** n):\n",
    "    bag = []\n",
    "    print(\"pattern {}: \".format(i), end=\"\")\n",
    "    for j in range(n):  # このループが一番のポイント\n",
    "        if ((i >> j) & 1):  # 順に右にシフトさせ最下位bitのチェックを行う\n",
    "            bag.append(item[j][0])  # フラグが立っていたら bag に果物を詰める\n",
    "    print(bag)"
   ]
  },
  {
   "cell_type": "code",
   "execution_count": 21,
   "metadata": {},
   "outputs": [
    {
     "name": "stdout",
     "output_type": "stream",
     "text": [
      "0 []\n",
      "100 ['みかん']\n",
      "200 ['りんご']\n",
      "300 ['みかん', 'りんご']\n",
      "300 ['ぶどう']\n"
     ]
    }
   ],
   "source": [
    "money = 300\n",
    "item = ((\"みかん\", 100), (\"りんご\", 200), (\"ぶどう\", 300))\n",
    "n = len(item)\n",
    "for i in range(2 ** n):\n",
    "    bag = []\n",
    "    total = 0\n",
    "    for j in range(n):  # このループが一番のポイント\n",
    "        if ((i >> j) & 1):  # 順に右にシフトさせ最下位bitのチェックを行う\n",
    "            bag.append(item[j][0])  # フラグが立っていたら bag に果物を詰める\n",
    "            total += item[j][1]  # 買い物累計額にも加算\n",
    "    if (total <= money):\n",
    "        print(total, bag)"
   ]
  },
  {
   "cell_type": "code",
   "execution_count": null,
   "metadata": {},
   "outputs": [],
   "source": []
  }
 ],
 "metadata": {
  "kernelspec": {
   "display_name": "Python 3",
   "language": "python",
   "name": "python3"
  },
  "language_info": {
   "codemirror_mode": {
    "name": "ipython",
    "version": 3
   },
   "file_extension": ".py",
   "mimetype": "text/x-python",
   "name": "python",
   "nbconvert_exporter": "python",
   "pygments_lexer": "ipython3",
   "version": "3.7.2"
  },
  "toc": {
   "base_numbering": 1,
   "nav_menu": {},
   "number_sections": true,
   "sideBar": true,
   "skip_h1_title": false,
   "title_cell": "Table of Contents",
   "title_sidebar": "Contents",
   "toc_cell": false,
   "toc_position": {},
   "toc_section_display": true,
   "toc_window_display": false
  }
 },
 "nbformat": 4,
 "nbformat_minor": 2
}
