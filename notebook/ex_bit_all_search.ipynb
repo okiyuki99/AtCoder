{
 "nbformat": 4,
 "nbformat_minor": 2,
 "metadata": {
  "language_info": {
   "name": "python",
   "codemirror_mode": {
    "name": "ipython",
    "version": 3
   },
   "version": "3.6.3"
  },
  "orig_nbformat": 2,
  "file_extension": ".py",
  "mimetype": "text/x-python",
  "name": "python",
  "npconvert_exporter": "python",
  "pygments_lexer": "ipython3",
  "version": 3
 },
 "cells": [
  {
   "cell_type": "markdown",
   "execution_count": null,
   "metadata": {},
   "outputs": [],
   "source": [
    "## bit 全探索をやってみる\n",
    "\n",
    "0 or 1 のbitで表現してみる"
   ]
  },
  {
   "cell_type": "code",
   "execution_count": 5,
   "metadata": {},
   "outputs": [
    {
     "name": "stdout",
     "output_type": "stream",
     "text": "[['0', '0', '0'], ['0', '0', '1'], ['0', '1', '0'], ['0', '1', '1'], ['1', '0', '0'], ['1', '0', '1'], ['1', '1', '0'], ['1', '1', '1']]\n"
    }
   ],
   "source": [
    "N = 3 # 箱のサイズ\n",
    "B = []\n",
    "for i in range(2 ** N): # 全パターン数を1つずつ作っていく\n",
    "    p = ['0'] * N\n",
    "    for j in range(N): \n",
    "        if ((i >> j) & 1) : #もとの数iを2進数表記でみて、1が立ってる箇所をチェックしていく  \n",
    "            p[N - 1 - j] = '1' \n",
    "    B.append(p)\n",
    "print(B)"
   ]
  },
  {
   "cell_type": "code",
   "execution_count": 6,
   "metadata": {},
   "outputs": [
    {
     "name": "stdout",
     "output_type": "stream",
     "text": "8\n"
    }
   ],
   "source": [
    "print(len(B))"
   ]
  },
  {
   "cell_type": "code",
   "execution_count": null,
   "metadata": {},
   "outputs": [],
   "source": []
  }
 ]
}