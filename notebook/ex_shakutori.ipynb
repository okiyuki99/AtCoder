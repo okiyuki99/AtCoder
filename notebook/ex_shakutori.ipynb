{
 "cells": [
  {
   "cell_type": "markdown",
   "metadata": {},
   "source": [
    "# しゃくとり法\n",
    "\n",
    "* [しゃくとり法 (尺取り法) の解説と、それを用いる問題のまとめ - Qiita](https://qiita.com/drken/items/ecd1a472d3a0e7db8dce#0-%E3%81%AF%E3%81%98%E3%82%81%E3%81%AB) が詳しくてわかりやすい\n",
    "* [尺取り法 - kumilog.net](https://www.kumilog.net/entry/two-pointers) がPythonでやってる\n"
   ]
  },
  {
   "cell_type": "markdown",
   "metadata": {},
   "source": [
    "https://atcoder.jp/contests/abc032/tasks/abc032_c\n",
    "   \n",
    "で練習"
   ]
  },
  {
   "cell_type": "code",
   "execution_count": 3,
   "metadata": {},
   "outputs": [
    {
     "name": "stdout",
     "output_type": "stream",
     "text": [
      "7 6\n",
      "4\n",
      "3\n",
      "1\n",
      "1\n",
      "2\n",
      "10\n",
      "2\n"
     ]
    }
   ],
   "source": [
    "N, K = map(int, input().split())\n",
    "S = [int(input()) for _ in range(N)]"
   ]
  },
  {
   "cell_type": "code",
   "execution_count": 5,
   "metadata": {},
   "outputs": [
    {
     "data": {
      "text/plain": [
       "[4, 3, 1, 1, 2, 10, 2]"
      ]
     },
     "execution_count": 5,
     "metadata": {},
     "output_type": "execute_result"
    }
   ],
   "source": [
    "S"
   ]
  },
  {
   "cell_type": "code",
   "execution_count": 16,
   "metadata": {},
   "outputs": [],
   "source": [
    "def main(N, K, S) :\n",
    "    max_len = 0\n",
    "    li, ri = 0, 0 # -- 左と右の位置を表すindex\n",
    "    total = 1\n",
    "    if 0 in S :\n",
    "        print(N)\n",
    "    else :\n",
    "        while ri < N :\n",
    "\n",
    "            # 右端を進めたときの積がK以下なら、右端を進める\n",
    "            if total * S[ri] <= K :\n",
    "                total *= S[ri]\n",
    "                ri += 1\n",
    "                max_len = max(max_len, ri - li)\n",
    "\n",
    "            # 左端と右端を進める\n",
    "            elif ri == li :\n",
    "                ri += 1\n",
    "                li += 1\n",
    "\n",
    "            # 左端を進める\n",
    "            else :\n",
    "                total //= S[li]\n",
    "                li += 1\n",
    "        print(max_len)"
   ]
  },
  {
   "cell_type": "code",
   "execution_count": 17,
   "metadata": {},
   "outputs": [
    {
     "name": "stdout",
     "output_type": "stream",
     "text": [
      "4\n"
     ]
    }
   ],
   "source": [
    "main(N,K,S)"
   ]
  },
  {
   "cell_type": "code",
   "execution_count": null,
   "metadata": {},
   "outputs": [],
   "source": []
  }
 ],
 "metadata": {
  "kernelspec": {
   "display_name": "Python 3",
   "language": "python",
   "name": "python3"
  },
  "language_info": {
   "codemirror_mode": {
    "name": "ipython",
    "version": 3
   },
   "file_extension": ".py",
   "mimetype": "text/x-python",
   "name": "python",
   "nbconvert_exporter": "python",
   "pygments_lexer": "ipython3",
   "version": "3.6.3"
  },
  "toc": {
   "base_numbering": 1,
   "nav_menu": {},
   "number_sections": true,
   "sideBar": true,
   "skip_h1_title": false,
   "title_cell": "Table of Contents",
   "title_sidebar": "Contents",
   "toc_cell": false,
   "toc_position": {},
   "toc_section_display": true,
   "toc_window_display": false
  }
 },
 "nbformat": 4,
 "nbformat_minor": 2
}
