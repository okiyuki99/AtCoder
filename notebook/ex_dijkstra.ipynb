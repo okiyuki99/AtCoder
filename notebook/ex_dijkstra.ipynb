{
 "cells": [
  {
   "cell_type": "markdown",
   "metadata": {},
   "source": [
    "## ダイクストラ法のお勉強\n",
    "* https://www.kumilog.net/entry/dijkstra"
   ]
  },
  {
   "cell_type": "code",
   "execution_count": 1,
   "metadata": {},
   "outputs": [],
   "source": [
    "from collections import defaultdict\n",
    "from heapq import heappop, heappush\n",
    "\n",
    "class Graph(object):\n",
    "    \"\"\"\n",
    "    隣接リストによる有向グラフ\n",
    "    \"\"\"\n",
    "\n",
    "    def __init__(self):\n",
    "        self.graph = defaultdict(list)\n",
    "\n",
    "    def __len__(self):\n",
    "        return len(self.graph)\n",
    "\n",
    "    def add_edge(self, src, dst, weight=1):\n",
    "        self.graph[src].append((dst, weight))\n",
    "\n",
    "    def get_nodes(self):\n",
    "        return self.graph.keys()\n",
    "\n",
    "\n",
    "class Dijkstra(object):\n",
    "    \"\"\"\n",
    "    ダイクストラ法（二分ヒープ）による最短経路探索\n",
    "    計算量: O((E+V)logV)\n",
    "    \"\"\"\n",
    "\n",
    "    def __init__(self, graph, start):\n",
    "        self.g = graph.graph\n",
    "\n",
    "        # startノードからの最短距離\n",
    "        # startノードは0, それ以外は無限大で初期化\n",
    "        self.dist = defaultdict(lambda: float('inf'))\n",
    "        self.dist[start] = 0\n",
    "\n",
    "        # 最短経路での1つ前のノード\n",
    "        self.prev = defaultdict(lambda: None)\n",
    "\n",
    "        # startノードをキューに入れる\n",
    "        self.Q = []\n",
    "        heappush(self.Q, (self.dist[start], start))\n",
    "\n",
    "        while self.Q:\n",
    "            # 優先度（距離）が最小であるキューを取り出す\n",
    "            dist_u, u = heappop(self.Q)\n",
    "            if self.dist[u] < dist_u:\n",
    "                continue\n",
    "            for v, weight in self.g[u]:\n",
    "                alt = dist_u + weight\n",
    "                if self.dist[v] > alt:\n",
    "                    self.dist[v] = alt\n",
    "                    self.prev[v] = u\n",
    "                    heappush(self.Q, (alt, v))\n",
    "\n",
    "    def shortest_distance(self, goal):\n",
    "        \"\"\"\n",
    "        startノードからgoalノードまでの最短距離\n",
    "        \"\"\"\n",
    "        return self.dist[goal]\n",
    "\n",
    "    def shortest_path(self, goal):\n",
    "        \"\"\"\n",
    "        startノードからgoalノードまでの最短経路\n",
    "        \"\"\"\n",
    "        path = []\n",
    "        node = goal\n",
    "        while node is not None:\n",
    "            path.append(node)\n",
    "            node = self.prev[node]\n",
    "        return path[::-1]"
   ]
  },
  {
   "cell_type": "markdown",
   "metadata": {},
   "source": [
    "### データ用意"
   ]
  },
  {
   "cell_type": "code",
   "execution_count": 9,
   "metadata": {},
   "outputs": [],
   "source": [
    "# (src, dst, weight)\n",
    "inputs = [(0, 1, 5), (0, 2, 4), (0, 3, 2), (1, 2, 2), (1, 5, 6), (2, 3, 3),(2, 4, 2), (3, 4, 6), (4, 5, 4)]\n",
    "\n",
    "g = Graph()\n",
    "for src, dst, weight in inputs:\n",
    "    g.add_edge(src, dst, weight)\n",
    "    g.add_edge(dst, src, weight)"
   ]
  },
  {
   "cell_type": "code",
   "execution_count": 16,
   "metadata": {},
   "outputs": [
    {
     "name": "stdout",
     "output_type": "stream",
     "text": [
      "defaultdict(<class 'list'>, {0: [(1, 5), (2, 4), (3, 2)], 1: [(0, 5), (2, 2), (5, 6)], 2: [(0, 4), (1, 2), (3, 3), (4, 2)], 3: [(0, 2), (2, 3), (4, 6)], 5: [(1, 6), (4, 4)], 4: [(2, 2), (3, 6), (5, 4)]})\n",
      "dict_keys([0, 1, 2, 3, 5, 4])\n",
      "6\n"
     ]
    }
   ],
   "source": [
    "print(g.graph)\n",
    "print(g.get_nodes())\n",
    "print(g.__len__())"
   ]
  },
  {
   "cell_type": "markdown",
   "metadata": {},
   "source": [
    "### 実行"
   ]
  },
  {
   "cell_type": "code",
   "execution_count": 17,
   "metadata": {},
   "outputs": [
    {
     "name": "stdout",
     "output_type": "stream",
     "text": [
      "最短経路: [0, 2, 4, 5]\n",
      "最短距離: 10\n"
     ]
    }
   ],
   "source": [
    "d = Dijkstra(g, 0)\n",
    "print('最短経路: {}'.format(d.shortest_path(5)))\n",
    "print('最短距離: {}'.format(d.shortest_distance(5)))"
   ]
  },
  {
   "cell_type": "code",
   "execution_count": null,
   "metadata": {},
   "outputs": [],
   "source": []
  }
 ],
 "metadata": {
  "kernelspec": {
   "display_name": "Python 3",
   "language": "python",
   "name": "python3"
  },
  "language_info": {
   "codemirror_mode": {
    "name": "ipython",
    "version": 3
   },
   "file_extension": ".py",
   "mimetype": "text/x-python",
   "name": "python",
   "nbconvert_exporter": "python",
   "pygments_lexer": "ipython3",
   "version": "3.6.3"
  },
  "toc": {
   "base_numbering": 1,
   "nav_menu": {},
   "number_sections": true,
   "sideBar": true,
   "skip_h1_title": false,
   "title_cell": "Table of Contents",
   "title_sidebar": "Contents",
   "toc_cell": false,
   "toc_position": {},
   "toc_section_display": true,
   "toc_window_display": false
  }
 },
 "nbformat": 4,
 "nbformat_minor": 2
}
